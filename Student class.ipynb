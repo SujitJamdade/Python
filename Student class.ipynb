{
 "cells": [
  {
   "cell_type": "code",
   "execution_count": 1,
   "metadata": {},
   "outputs": [
    {
     "name": "stdout",
     "output_type": "stream",
     "text": [
      "50\n",
      "Sujit\n",
      "5\n",
      "98\n",
      "88\n",
      "83\n",
      "94\n",
      "90\n",
      "90\n",
      "A\n"
     ]
    }
   ],
   "source": [
    "class Student:\n",
    "    def __init__(self,roll,name,marks_list):\n",
    "        self.roll = roll\n",
    "        self.name = name\n",
    "        self.marks_list = marks_list\n",
    "        \n",
    "    def calculate_percentage(self):\n",
    "        percentage = sum(self.marks_list)//len(self.marks_list)\n",
    "        return percentage\n",
    "            \n",
    "    def find_grade(self):\n",
    "        percentage = self.calculate_percentage()\n",
    "        \n",
    "        if percentage>=80:\n",
    "            return \"A\"\n",
    "        elif percentage>=60:\n",
    "            return \"B\"\n",
    "        elif percentage>=40:\n",
    "            return \"C\"\n",
    "        else:\n",
    "            return \"F\"\n",
    "        \n",
    "if __name__ == \"__main__\":\n",
    "    roll = int(input())\n",
    "    name = input()\n",
    "    count = int(input())\n",
    "    marks = []\n",
    "    for i in range(count):\n",
    "        marks.append(int(input()))\n",
    "        \n",
    "    s = Student(roll,name,marks)\n",
    "    print(s.calculate_percentage())\n",
    "    print(s.find_grade())"
   ]
  }
 ],
 "metadata": {
  "kernelspec": {
   "display_name": "Python 3",
   "language": "python",
   "name": "python3"
  },
  "language_info": {
   "codemirror_mode": {
    "name": "ipython",
    "version": 3
   },
   "file_extension": ".py",
   "mimetype": "text/x-python",
   "name": "python",
   "nbconvert_exporter": "python",
   "pygments_lexer": "ipython3",
   "version": "3.7.3"
  }
 },
 "nbformat": 4,
 "nbformat_minor": 2
}
