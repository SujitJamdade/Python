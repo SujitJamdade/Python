{
 "cells": [
  {
   "cell_type": "code",
   "execution_count": 3,
   "metadata": {},
   "outputs": [
    {
     "name": "stdout",
     "output_type": "stream",
     "text": [
      "Name is :  Ram\n",
      "Name is :  Tom\n"
     ]
    }
   ],
   "source": [
    "class Student:\n",
    "    def __init__(self,rollno,name):\n",
    "        self.name = name\n",
    "        self.rollno = rollno\n",
    "        \n",
    "    def printName(self):\n",
    "        print(\"Name is : \", self.name)\n",
    "        \n",
    "s1 = Student(123,\"Ram\")\n",
    "s2 = Student(456,\"Tom\")\n",
    "s1.printName()\n",
    "s2.printName()"
   ]
  },
  {
   "cell_type": "code",
   "execution_count": 9,
   "metadata": {},
   "outputs": [],
   "source": [
    "class Dog:\n",
    "    \n",
    "    kind = \"craine\"\n",
    "    count = 0\n",
    "    \n",
    "    def __init__(self,name):\n",
    "        self.name = name\n",
    "        Dog.count +=1\n",
    "        \n",
    "d = Dog(\"Fido\")\n",
    "e = Dog(\"Buddy\")\n",
    "\n"
   ]
  },
  {
   "cell_type": "code",
   "execution_count": 10,
   "metadata": {},
   "outputs": [
    {
     "data": {
      "text/plain": [
       "'craine'"
      ]
     },
     "execution_count": 10,
     "metadata": {},
     "output_type": "execute_result"
    }
   ],
   "source": [
    "d.kind"
   ]
  },
  {
   "cell_type": "code",
   "execution_count": 11,
   "metadata": {},
   "outputs": [
    {
     "data": {
      "text/plain": [
       "'Fido'"
      ]
     },
     "execution_count": 11,
     "metadata": {},
     "output_type": "execute_result"
    }
   ],
   "source": [
    "d.name"
   ]
  },
  {
   "cell_type": "code",
   "execution_count": 12,
   "metadata": {},
   "outputs": [
    {
     "data": {
      "text/plain": [
       "'craine'"
      ]
     },
     "execution_count": 12,
     "metadata": {},
     "output_type": "execute_result"
    }
   ],
   "source": [
    "e.kind"
   ]
  },
  {
   "cell_type": "code",
   "execution_count": 13,
   "metadata": {},
   "outputs": [
    {
     "data": {
      "text/plain": [
       "'Buddy'"
      ]
     },
     "execution_count": 13,
     "metadata": {},
     "output_type": "execute_result"
    }
   ],
   "source": [
    "e.name"
   ]
  },
  {
   "cell_type": "code",
   "execution_count": 14,
   "metadata": {},
   "outputs": [
    {
     "data": {
      "text/plain": [
       "2"
      ]
     },
     "execution_count": 14,
     "metadata": {},
     "output_type": "execute_result"
    }
   ],
   "source": [
    "d.count"
   ]
  },
  {
   "cell_type": "code",
   "execution_count": 15,
   "metadata": {},
   "outputs": [
    {
     "data": {
      "text/plain": [
       "2"
      ]
     },
     "execution_count": 15,
     "metadata": {},
     "output_type": "execute_result"
    }
   ],
   "source": [
    "e.count"
   ]
  },
  {
   "cell_type": "code",
   "execution_count": 1,
   "metadata": {},
   "outputs": [
    {
     "name": "stdout",
     "output_type": "stream",
     "text": [
      "22\n"
     ]
    }
   ],
   "source": [
    "class A():\n",
    "    def __init__(self,a,b,c):\n",
    "        self.a = a\n",
    "        self.b = b\n",
    "        self.c = c\n",
    "        \n",
    "    def addNums():\n",
    "        self.b+self.c\n",
    "        \n",
    "class B():\n",
    "    def __init__(self,d,e):\n",
    "        self.d = d\n",
    "        self.e = e\n",
    "        \n",
    "    def addAllNums(self,Ab,Ac):\n",
    "        x = self.d + self.e + Ab + Ac\n",
    "        return x\n",
    "    \n",
    "ting = A(\"yo\",2,6)\n",
    "ling = B(5,9)\n",
    "\n",
    "print(ling.addAllNums(ting.b,ting.c))"
   ]
  },
  {
   "cell_type": "code",
   "execution_count": 19,
   "metadata": {},
   "outputs": [
    {
     "name": "stdout",
     "output_type": "stream",
     "text": [
      "190000\n"
     ]
    }
   ],
   "source": [
    "class Salary:\n",
    "    def __init__(self,pay,bonus):\n",
    "        self.pay = pay\n",
    "        self.bonus = bonus\n",
    "        \n",
    "    def annualSalary(self):\n",
    "        return (self.pay*12)+ self.bonus\n",
    "    \n",
    "class Employee:\n",
    "    def __init__(self,name,age,salary):\n",
    "        self.name = name\n",
    "        self.age = age\n",
    "        self.emp_salary = salary\n",
    "        \n",
    "    def totalSalary(self):\n",
    "        return self.emp_salary.annualSalary()\n",
    "    \n",
    "salary = Salary(15000,10000)\n",
    "emp = Employee(\"Sujit\",21,salary)\n",
    "print(emp.totalSalary())"
   ]
  },
  {
   "cell_type": "code",
   "execution_count": 4,
   "metadata": {},
   "outputs": [
    {
     "name": "stdout",
     "output_type": "stream",
     "text": [
      "No of emp 2\n",
      "Id 123\n",
      "Name sujit\n",
      "age 21\n",
      "Gender M\n",
      "Start adding \n",
      "Ending\n",
      "Id 456\n",
      "Name Samir\n",
      "age 25\n",
      "Gender F\n",
      "Start adding \n",
      "Ending\n",
      "In view Employee function\n",
      "sujit\n",
      "123\n",
      "21\n",
      "M\n",
      "Samir\n",
      "456\n",
      "25\n",
      "F\n",
      "End View Employee function \n",
      "In countEmployee function \n",
      "End countEmployee function \n",
      "2\n",
      "Enter id : 50\n",
      "In findEmployee function \n",
      "End findEmployee function \n",
      "-1\n",
      "age : 50\n",
      "In countEmployee AGE WISE Function \n",
      "In countEmployee AGE WISE function\n",
      "0\n"
     ]
    }
   ],
   "source": [
    "class Employee:\n",
    "    def __init__(self,id,name,age,gender):\n",
    "        self.ename = name\n",
    "        self.eid = id\n",
    "        self.age = age \n",
    "        self.gender = gender \n",
    "        \n",
    "class Organization:\n",
    "    def __init__(self,name,elist):\n",
    "        self.oname = name \n",
    "        self.elist = elist\n",
    "        \n",
    "    def addEmployees(self,name,id,age,gender):\n",
    "        print(\"Start adding \")\n",
    "        e = Employee(name,id,age,gender)\n",
    "        self.elist.append(e)\n",
    "        print(\"Ending\")\n",
    "        \n",
    "    def viewEmployees(self):\n",
    "        print(\"In view Employee function\")\n",
    "        for e in self.elist:\n",
    "            print(e.eid)\n",
    "            print(e.ename)\n",
    "            print(e.age)\n",
    "            print(e.gender)\n",
    "        print(\"End View Employee function \")\n",
    "        \n",
    "    def getEmployeeCount(self):\n",
    "        print(\"In countEmployee function \")\n",
    "        print(\"End countEmployee function \")\n",
    "        return len(self.elist)\n",
    "    \n",
    "    def findEmployeeAge(self,id):\n",
    "        print(\"In findEmployee function \")\n",
    "        age = -1\n",
    "        for e in self.elist:\n",
    "            if e.eid == id:\n",
    "                age = e.age\n",
    "                break\n",
    "        print(\"End findEmployee function \")\n",
    "        return age\n",
    "    \n",
    "    def countEmployees(self,age):\n",
    "        count = 0\n",
    "        print(\"In countEmployee AGE WISE Function \")\n",
    "        for e in self.elist:\n",
    "            if e.age > age:\n",
    "                count = count + 1\n",
    "        print(\"In countEmployee AGE WISE function\")\n",
    "        return count\n",
    "        \n",
    "        \n",
    "        \n",
    "if __name__ == \"__main__\":\n",
    "    employee = []\n",
    "    o = Organization(\"ABC\",employee)\n",
    "    n = int(input(\"No of emp \"))\n",
    "    for i in range(n):\n",
    "        id = int(input(\"Id \"))\n",
    "        name = input(\"Name \")\n",
    "        \n",
    "        age = int(input(\"age \"))\n",
    "        gender = input(\"Gender \")\n",
    "        o.addEmployees(name, id,age,gender)\n",
    "        \n",
    "    o.viewEmployees()\n",
    "    print(o.getEmployeeCount())\n",
    "    \n",
    "    id = int(input(\"Enter id : \"))\n",
    "    print(o.findEmployeeAge(id))\n",
    "    \n",
    "    age = int(input(\"age : \"))\n",
    "    print(o.countEmployees(age))"
   ]
  },
  {
   "cell_type": "code",
   "execution_count": 3,
   "metadata": {},
   "outputs": [
    {
     "ename": "NameError",
     "evalue": "name 'self' is not defined",
     "output_type": "error",
     "traceback": [
      "\u001b[1;31m---------------------------------------------------------------------------\u001b[0m",
      "\u001b[1;31mNameError\u001b[0m                                 Traceback (most recent call last)",
      "\u001b[1;32m<ipython-input-3-951752b5b571>\u001b[0m in \u001b[0;36m<module>\u001b[1;34m\u001b[0m\n\u001b[1;32m----> 1\u001b[1;33m \u001b[0mprint\u001b[0m\u001b[1;33m(\u001b[0m\u001b[0mself\u001b[0m\u001b[1;33m.\u001b[0m\u001b[0melist\u001b[0m\u001b[1;33m)\u001b[0m\u001b[1;33m\u001b[0m\u001b[1;33m\u001b[0m\u001b[0m\n\u001b[0m",
      "\u001b[1;31mNameError\u001b[0m: name 'self' is not defined"
     ]
    }
   ],
   "source": [
    "print(self.elist)"
   ]
  },
  {
   "cell_type": "code",
   "execution_count": null,
   "metadata": {},
   "outputs": [],
   "source": []
  },
  {
   "cell_type": "code",
   "execution_count": null,
   "metadata": {},
   "outputs": [],
   "source": []
  }
 ],
 "metadata": {
  "kernelspec": {
   "display_name": "Python 3",
   "language": "python",
   "name": "python3"
  },
  "language_info": {
   "codemirror_mode": {
    "name": "ipython",
    "version": 3
   },
   "file_extension": ".py",
   "mimetype": "text/x-python",
   "name": "python",
   "nbconvert_exporter": "python",
   "pygments_lexer": "ipython3",
   "version": "3.7.3"
  }
 },
 "nbformat": 4,
 "nbformat_minor": 2
}
