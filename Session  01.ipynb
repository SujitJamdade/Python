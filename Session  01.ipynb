{
 "cells": [
  {
   "cell_type": "code",
   "execution_count": 1,
   "metadata": {},
   "outputs": [
    {
     "name": "stdout",
     "output_type": "stream",
     "text": [
      "This is python version 3.7.3\n"
     ]
    }
   ],
   "source": [
    "import platform\n",
    "\n",
    "print('This is python version {}'.format(platform.python_version()))"
   ]
  },
  {
   "cell_type": "code",
   "execution_count": 2,
   "metadata": {},
   "outputs": [
    {
     "data": {
      "text/plain": [
       "'\\nShebang Line\\n\\n#!/usr/bin/env python3\\n\\n#=she\\n!=bang\\n\\n'"
      ]
     },
     "execution_count": 2,
     "metadata": {},
     "output_type": "execute_result"
    }
   ],
   "source": [
    "\"\"\"\n",
    "Shebang Line\n",
    "\n",
    "#!/usr/bin/env python3\n",
    "\n",
    "#=she\n",
    "!=bang\n",
    "\n",
    "\"\"\""
   ]
  },
  {
   "cell_type": "code",
   "execution_count": 5,
   "metadata": {},
   "outputs": [
    {
     "name": "stdout",
     "output_type": "stream",
     "text": [
      "first\n",
      "This is python version 3.7.3\n"
     ]
    }
   ],
   "source": [
    "import platform\n",
    "\n",
    "def main():\n",
    "    message()\n",
    "    \n",
    "def message():\n",
    "    print('This is python version {}'.format(platform.python_version()))\n",
    "print(\"first\")   \n",
    "if __name__ == \"__main__\":main()"
   ]
  },
  {
   "cell_type": "code",
   "execution_count": 7,
   "metadata": {},
   "outputs": [
    {
     "name": "stdout",
     "output_type": "stream",
     "text": [
      "hello my name is sujit\n"
     ]
    }
   ],
   "source": [
    "# printing format\n",
    "\n",
    "name = \"sujit\"\n",
    "greet = \"hello my name is {}\".format(name)\n",
    "print(greet)"
   ]
  },
  {
   "cell_type": "code",
   "execution_count": 8,
   "metadata": {},
   "outputs": [
    {
     "name": "stdout",
     "output_type": "stream",
     "text": [
      "hello my name is sujit\n"
     ]
    }
   ],
   "source": [
    "print(\"hello my name is {}\".format(name))"
   ]
  },
  {
   "cell_type": "code",
   "execution_count": 9,
   "metadata": {},
   "outputs": [
    {
     "name": "stdout",
     "output_type": "stream",
     "text": [
      "My age is 21\n"
     ]
    }
   ],
   "source": [
    "age = 21\n",
    "print(\"My age is %d\"%age)"
   ]
  },
  {
   "cell_type": "code",
   "execution_count": 10,
   "metadata": {},
   "outputs": [
    {
     "name": "stdout",
     "output_type": "stream",
     "text": [
      "My age is 21\n"
     ]
    }
   ],
   "source": [
    "age = 21\n",
    "print(f'My age is {age}')"
   ]
  },
  {
   "cell_type": "code",
   "execution_count": 15,
   "metadata": {},
   "outputs": [
    {
     "name": "stdout",
     "output_type": "stream",
     "text": [
      "0 1 1 2 3 5 8 13 21 34 55 89 144 233 377 610 987 "
     ]
    }
   ],
   "source": [
    "# Fobonaci\n",
    "a, b=0,1\n",
    "while a<1000:\n",
    "    print(a,end =\" \")\n",
    "    a,b  = b, a+b"
   ]
  },
  {
   "cell_type": "code",
   "execution_count": 19,
   "metadata": {},
   "outputs": [
    {
     "name": "stdout",
     "output_type": "stream",
     "text": [
      "5 is a prime number\n"
     ]
    }
   ],
   "source": [
    "def is_prime(n):\n",
    "    \n",
    "    if n<=1:\n",
    "        return False\n",
    "    else:\n",
    "        for i in range(2,n):\n",
    "            if n%i ==0:\n",
    "                return False\n",
    "            else:\n",
    "                return True\n",
    "    \n",
    "n=5\n",
    "if is_prime(n):\n",
    "    print(n,\"is a prime number\")\n",
    "else:\n",
    "    print(n,\"is not a prime number\")\n",
    "    \n"
   ]
  },
  {
   "cell_type": "code",
   "execution_count": 24,
   "metadata": {},
   "outputs": [
    {
     "name": "stdout",
     "output_type": "stream",
     "text": [
      "2 3 5 7 11 13 17 19 23 29 31 37 41 43 47 53 59 61 67 71 73 79 83 89 97 "
     ]
    }
   ],
   "source": [
    "def is_prime(n):\n",
    "    \n",
    "    if n<=1:\n",
    "        return False\n",
    "    for i in range(2,n):\n",
    "        \n",
    "        if n%i ==0:\n",
    "            return False\n",
    "    else:\n",
    "        return True\n",
    "        \n",
    "def list_prime():\n",
    "    \n",
    "    for i in range(100):\n",
    "        if is_prime(i):\n",
    "            print(i, end =\" \")\n",
    "        \n",
    "list_prime()"
   ]
  },
  {
   "cell_type": "code",
   "execution_count": 26,
   "metadata": {},
   "outputs": [
    {
     "name": "stdout",
     "output_type": "stream",
     "text": [
      "Quaack\n",
      "Walks like a duck\n"
     ]
    }
   ],
   "source": [
    "class Duck:\n",
    "    sound = \"Quaack\"\n",
    "    walking = \"Walks like a duck\"\n",
    "    \n",
    "    def quack(self):\n",
    "        print(self.sound)\n",
    "        \n",
    "    def walk(self):\n",
    "        print(self.walking)\n",
    "        \n",
    "def main():\n",
    "    donald= Duck()\n",
    "    donald.quack()\n",
    "    \n",
    "    donald.walk()\n",
    "if __name__ == '__main__': main()"
   ]
  },
  {
   "cell_type": "code",
   "execution_count": 3,
   "metadata": {},
   "outputs": [
    {
     "name": "stdout",
     "output_type": "stream",
     "text": [
      "x is 5.551115123125783e-17\n"
     ]
    }
   ],
   "source": [
    "x = .1+ .1+ .1 -.3\n",
    "print(\"x is {}\".format(x))"
   ]
  },
  {
   "cell_type": "code",
   "execution_count": 4,
   "metadata": {},
   "outputs": [
    {
     "name": "stdout",
     "output_type": "stream",
     "text": [
      "x is 0.00\n"
     ]
    }
   ],
   "source": [
    "from decimal import *\n",
    "a = Decimal('0.10')\n",
    "b = Decimal('0.30')\n",
    "x = a+a+a-b\n",
    "print(\"x is {}\".format(x))"
   ]
  },
  {
   "cell_type": "code",
   "execution_count": null,
   "metadata": {},
   "outputs": [],
   "source": []
  }
 ],
 "metadata": {
  "kernelspec": {
   "display_name": "Python 3",
   "language": "python",
   "name": "python3"
  },
  "language_info": {
   "codemirror_mode": {
    "name": "ipython",
    "version": 3
   },
   "file_extension": ".py",
   "mimetype": "text/x-python",
   "name": "python",
   "nbconvert_exporter": "python",
   "pygments_lexer": "ipython3",
   "version": "3.7.3"
  }
 },
 "nbformat": 4,
 "nbformat_minor": 2
}
