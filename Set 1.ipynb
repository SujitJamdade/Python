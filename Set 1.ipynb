{
 "cells": [
  {
   "cell_type": "markdown",
   "metadata": {},
   "source": [
    "# Que 1 : Write a program to identify if the character is a vowel or consonant"
   ]
  },
  {
   "cell_type": "code",
   "execution_count": 11,
   "metadata": {
    "scrolled": true
   },
   "outputs": [
    {
     "name": "stdout",
     "output_type": "stream",
     "text": [
      "Please enter a character which you want to check wheter is it vowel or consonant = I\n",
      "I is a vowel\n"
     ]
    }
   ],
   "source": [
    "char = input(\"Please enter a character which you want to check wheter is it vowel or consonant = \")\n",
    "\n",
    "if ( char == 'A' or char == 'a' or\n",
    "     char == 'E' or char == 'e' or\n",
    "     char == 'I' or char == 'i' or\n",
    "     char == 'O' or char == 'o' or\n",
    "     char == 'U' or char == 'u'):\n",
    "    \n",
    "    print(char, \"is a vowel\")\n",
    "    \n",
    "else:\n",
    "    \n",
    "    print(char, \"is a consonant\")"
   ]
  },
  {
   "cell_type": "markdown",
   "metadata": {},
   "source": [
    "# Que 2 : Write a program to identify if the character is an alphabet or not"
   ]
  },
  {
   "cell_type": "code",
   "execution_count": 51,
   "metadata": {},
   "outputs": [
    {
     "name": "stdout",
     "output_type": "stream",
     "text": [
      "Please enter a character which you want to check wheter is it  an alphabet or not = S\n",
      "S is a alphabet\n"
     ]
    }
   ],
   "source": [
    "# Approach 1 \n",
    "\n",
    "char = input(\"Please enter a character which you want to check wheter is it  an alphabet or not = \")\n",
    "\n",
    "if ((char>='A' and char<='Z') or (char>='a' and char<='z')):  #for alphabhet \n",
    "    \n",
    "    print(char, \"is a alphabet\")\n",
    "\n",
    "else:\n",
    "    \n",
    "    print(char, \"is not a alphabet\")"
   ]
  },
  {
   "cell_type": "code",
   "execution_count": 52,
   "metadata": {},
   "outputs": [
    {
     "name": "stdout",
     "output_type": "stream",
     "text": [
      "Please enter a character which you want to check wheter is it  an alphabet or not = s\n",
      "s is a alphabet\n"
     ]
    }
   ],
   "source": [
    "# Approach 2\n",
    "\n",
    "char = input(\"Please enter a character which you want to check wheter is it  an alphabet or not = \")\n",
    "\n",
    "if (((ord(char))>=65 and (ord(char))<=90) or ((ord(char))>=97 and (ord(char))<=122)):\n",
    "    \n",
    "    print(char, \"is a alphabet\")\n",
    "\n",
    "else:\n",
    "    \n",
    "    print(char, \"is not a alphabet\")"
   ]
  },
  {
   "cell_type": "code",
   "execution_count": 53,
   "metadata": {},
   "outputs": [
    {
     "name": "stdout",
     "output_type": "stream",
     "text": [
      "Please enter a character which you want to check wheter is it  an alphabet or not = 7\n",
      "7 is not a alphabet\n"
     ]
    }
   ],
   "source": [
    "# Approach 3\n",
    "\n",
    "char = input(\"Please enter a character which you want to check wheter is it  an alphabet or not = \")\n",
    "check = char.isalpha()\n",
    "\n",
    "if check == 1:\n",
    "    print(char, \"is a alphabet\")\n",
    "    \n",
    "else:  \n",
    "    print(char, \"is not a alphabet\")"
   ]
  },
  {
   "cell_type": "markdown",
   "metadata": {},
   "source": [
    "# Que 3 : Write a program to find ASCII values of a character"
   ]
  },
  {
   "cell_type": "code",
   "execution_count": 62,
   "metadata": {},
   "outputs": [
    {
     "name": "stdout",
     "output_type": "stream",
     "text": [
      "Please enter a character to find ASCII value = Z\n",
      "ASCII value of Z is 90\n"
     ]
    }
   ],
   "source": [
    "char = input(\"Please enter a character to find ASCII value = \")\n",
    "\n",
    "check = ord(char)\n",
    "\n",
    "print(\"ASCII value of {} is {}\".format(char, check))  \n",
    "\n",
    "\"\"\"\n",
    "here insted of line 3 and 5 we directly write in one sentence \n",
    "\n",
    "print(\"The ASCII value of char \" + char + \" is: \",ord(char))\n",
    "\n",
    "\"\"\""
   ]
  },
  {
   "cell_type": "markdown",
   "metadata": {},
   "source": [
    "# Que 4 : Write a program to find Number of digits in an integer"
   ]
  },
  {
   "cell_type": "code",
   "execution_count": 78,
   "metadata": {},
   "outputs": [
    {
     "name": "stdout",
     "output_type": "stream",
     "text": [
      "Please enter number in integer value = 1234567890\n",
      "Total digits in number is 10\n"
     ]
    }
   ],
   "source": [
    "#Approach 1\n",
    "\n",
    "num = int(input(\"Please enter number in integer value = \"))\n",
    "num = str(num)\n",
    "print(\"Total digits in number is\",len(num))"
   ]
  },
  {
   "cell_type": "code",
   "execution_count": 80,
   "metadata": {},
   "outputs": [
    {
     "name": "stdout",
     "output_type": "stream",
     "text": [
      "Please enter number in integer value = 1234567890\n",
      "Total digits in number is 10\n"
     ]
    }
   ],
   "source": [
    "#Approach 2 \n",
    "\n",
    "num = int(input(\"Please enter number in integer value = \"))\n",
    "count = 0\n",
    "while num >0:\n",
    "    num = num // 10\n",
    "    count+=1\n",
    "    \n",
    "print(\"Total digits in number is\",count)"
   ]
  },
  {
   "cell_type": "markdown",
   "metadata": {},
   "source": [
    "# Que 5 : Write a program to find Factorial of a number"
   ]
  },
  {
   "cell_type": "code",
   "execution_count": 5,
   "metadata": {},
   "outputs": [
    {
     "name": "stdout",
     "output_type": "stream",
     "text": [
      "Enter a number: 5\n",
      "The factorial of 5 is 120\n"
     ]
    }
   ],
   "source": [
    "# In this approach we use for loop\n",
    "\n",
    "num = int(input(\"Enter a number: \"))\n",
    "\n",
    "factorial = 1\n",
    "\n",
    "# check if the number is negative, positive or zero\n",
    "\n",
    "if num < 0:\n",
    "    \n",
    "    print(\"Sorry, factorial does not exist for negative numbers\")\n",
    "elif num == 0:\n",
    "    print(\"The factorial of 0 is 1\")\n",
    "else:\n",
    "    for i in range(1,num + 1):\n",
    "        factorial = factorial*i\n",
    "    print(\"The factorial of\",num,\"is\",factorial)"
   ]
  },
  {
   "cell_type": "code",
   "execution_count": 3,
   "metadata": {},
   "outputs": [
    {
     "name": "stdout",
     "output_type": "stream",
     "text": [
      "Enter a number: 5\n",
      "The factorial of given number is 120\n"
     ]
    }
   ],
   "source": [
    "# In this approach we use while loop\n",
    "\n",
    "num = int(input(\"Enter a number: \"))\n",
    "\n",
    "factorial = 1\n",
    "\n",
    "# check if the number is negative, positive or zero\n",
    "\n",
    "if num < 0:\n",
    "    \n",
    "    print(\"Sorry, factorial does not exist for negative numbers\")\n",
    "elif num == 0:\n",
    "    print(\"The factorial of 0 is 1\")\n",
    "else:\n",
    "    while num>1:\n",
    "        factorial = factorial*num\n",
    "        num-=1\n",
    "    print(\"The factorial of given number is\",factorial)"
   ]
  },
  {
   "cell_type": "code",
   "execution_count": 2,
   "metadata": {},
   "outputs": [
    {
     "name": "stdout",
     "output_type": "stream",
     "text": [
      "Please enter a number to find factorial = 50\n",
      "Factorial of 50 is = 1 2 5 10 25 "
     ]
    }
   ],
   "source": [
    "# Approach for finding factors of num\n",
    "\n",
    "num = int(input(\"Please enter a number to find factorial = \"))\n",
    "print(\"Factorial of {} is = \".format(num),end=\"\")\n",
    "for i in range (1,num//2 +1):\n",
    "    \n",
    "    if num %i ==0:\n",
    "        print(i, end=\" \")"
   ]
  },
  {
   "cell_type": "code",
   "execution_count": 2,
   "metadata": {},
   "outputs": [
    {
     "name": "stdout",
     "output_type": "stream",
     "text": [
      "Please enter a number to find factorial = 5\n",
      "120\n"
     ]
    }
   ],
   "source": [
    "def factorial(n): \n",
    "    if n < 0: \n",
    "        return 0\n",
    "    elif n == 0 or n == 1: \n",
    "        return 1\n",
    "    else: \n",
    "        fact = 1\n",
    "        while(n > 1): \n",
    "            fact *= n \n",
    "            n -= 1\n",
    "        return fact \n",
    "n = int(input(\"Please enter a number to find factorial = \"))\n",
    "print(factorial(n))"
   ]
  },
  {
   "cell_type": "code",
   "execution_count": null,
   "metadata": {},
   "outputs": [],
   "source": [
    "num = int(input(\"Enter a number: \"))  \n",
    "factorial = 1  \n",
    "if num < 0:  \n",
    "   print(\"Sorry, factorial does not exist for negative numbers\")  \n",
    "elif num == 0:  \n",
    "   print(\"The factorial of 0 is 1\")  \n",
    "else:  \n",
    "   for i in range(1,num + 1):  \n",
    "       factorial = factorial*i  \n",
    "   print(\"The factorial of\",num,\"is\",factorial) "
   ]
  },
  {
   "cell_type": "code",
   "execution_count": 6,
   "metadata": {},
   "outputs": [],
   "source": [
    "def factorial(n): \n",
    "      \n",
    "    # single line to find factorial \n",
    "    return 1 if (n==1 or n==0) else n * factorial(n - 1);\n"
   ]
  },
  {
   "cell_type": "code",
   "execution_count": 7,
   "metadata": {},
   "outputs": [
    {
     "data": {
      "text/plain": [
       "120"
      ]
     },
     "execution_count": 7,
     "metadata": {},
     "output_type": "execute_result"
    }
   ],
   "source": [
    "factorial(5)"
   ]
  },
  {
   "cell_type": "markdown",
   "metadata": {},
   "source": [
    "# Que 6 :  Write a program to find Fibonacci series up to n"
   ]
  },
  {
   "cell_type": "code",
   "execution_count": 4,
   "metadata": {},
   "outputs": [
    {
     "name": "stdout",
     "output_type": "stream",
     "text": [
      "Enter a number to find Fibonacci series up to number : 10\n",
      "0 1 1 2 3 5 8 13 21 34 "
     ]
    }
   ],
   "source": [
    "n =int(input(\"Enter a number to find Fibonacci series up to number : \"))\n",
    "a=0\n",
    "b=1\n",
    "c=0\n",
    "while (n>0):\n",
    "    print(c,end=\" \")\n",
    "    c=a+b;\n",
    "    b=a\n",
    "    a=c\n",
    "    n=n-1"
   ]
  },
  {
   "cell_type": "code",
   "execution_count": null,
   "metadata": {},
   "outputs": [],
   "source": [
    "n =int(input(\"Enter a number to find Fibonacci series up to number : \"))\n",
    "a,b=0,1\n",
    "\n",
    "for i in range (0,n)"
   ]
  },
  {
   "cell_type": "markdown",
   "metadata": {},
   "source": [
    "# Que 7 : Write a program to identify of the a number is positive or negative"
   ]
  },
  {
   "cell_type": "code",
   "execution_count": 18,
   "metadata": {},
   "outputs": [
    {
     "name": "stdout",
     "output_type": "stream",
     "text": [
      "Please Enter a number for checking number is positive or negative :7\n",
      "Number is positive\n"
     ]
    }
   ],
   "source": [
    "n = int(input(\"Please Enter a number for checking number is positive or negative :\"))\n",
    "if n==0:\n",
    "    print(\"Number is zero it is has negative or positive sign\")\n",
    "elif n>0:\n",
    "    print(\"Number is positive\")\n",
    "else:\n",
    "    print(\"Number is negative\")"
   ]
  },
  {
   "cell_type": "markdown",
   "metadata": {},
   "source": [
    "# Que 8 : Write a program to identify if the number is even or odd"
   ]
  },
  {
   "cell_type": "code",
   "execution_count": 17,
   "metadata": {},
   "outputs": [
    {
     "name": "stdout",
     "output_type": "stream",
     "text": [
      "Please Enter a number for checking odd or even : 7\n",
      "7 is a odd Number\n"
     ]
    }
   ],
   "source": [
    "n = int (input(\"Please Enter a number for checking odd or even : \"))\n",
    "if n %2==0:\n",
    "    print(n,\"is a even Number\")\n",
    "else:\n",
    "    print(n,\"is a odd Number\")"
   ]
  },
  {
   "cell_type": "markdown",
   "metadata": {},
   "source": [
    "# Que 9 : Write a program to find Area of a circle"
   ]
  },
  {
   "cell_type": "markdown",
   "metadata": {},
   "source": [
    "Write a program to find Area of a circle\n",
    "\n",
    "Write a program to find Area of a rectangle\n",
    "\n",
    "Write a program to find Area of a Triangle\n",
    "\n",
    "Write a program to find Sum of digits of a number\n",
    "\n",
    "Write a program to find Sum of N natural numbers\n",
    "\n",
    "Write a program to find Sum of numbers in a given range\n"
   ]
  },
  {
   "cell_type": "code",
   "execution_count": 32,
   "metadata": {},
   "outputs": [
    {
     "name": "stdout",
     "output_type": "stream",
     "text": [
      "Please enter a radius of circle : 20\n",
      "1256.6370614359173\n"
     ]
    }
   ],
   "source": [
    "import math\n",
    "radius = int(input(\"Please enter a radius of circle : \"))\n",
    "area = math.pi *radius*radius\n",
    "print(area)"
   ]
  },
  {
   "cell_type": "code",
   "execution_count": 34,
   "metadata": {},
   "outputs": [
    {
     "name": "stdout",
     "output_type": "stream",
     "text": [
      "Please enter a radius of circle : 20\n",
      "1256.0\n"
     ]
    }
   ],
   "source": [
    "radius = int(input(\"Please enter a radius of circle : \"))\n",
    "area = 3.14*radius*radius\n",
    "print(area)"
   ]
  },
  {
   "cell_type": "markdown",
   "metadata": {},
   "source": [
    "# Que 10 : Write a program to find Area of a rectangle"
   ]
  },
  {
   "cell_type": "code",
   "execution_count": 2,
   "metadata": {},
   "outputs": [
    {
     "name": "stdout",
     "output_type": "stream",
     "text": [
      "Enter the length : 10\n",
      "Enter the bredth : 5\n",
      "Area of Rectangle : 50\n"
     ]
    }
   ],
   "source": [
    "length = int(input(\"Enter the length : \"))\n",
    "bredth = int(input(\"Enter the bredth : \"))\n",
    "Area = length*bredth\n",
    "print(\"Area of Rectangle :\",Area)"
   ]
  },
  {
   "cell_type": "code",
   "execution_count": 2,
   "metadata": {},
   "outputs": [
    {
     "name": "stdout",
     "output_type": "stream",
     "text": [
      "a\n"
     ]
    }
   ],
   "source": [
    "char = 'a'\n",
    "print (char)"
   ]
  },
  {
   "cell_type": "code",
   "execution_count": 3,
   "metadata": {},
   "outputs": [
    {
     "name": "stdout",
     "output_type": "stream",
     "text": [
      "97\n"
     ]
    }
   ],
   "source": [
    "print(ord('a'))"
   ]
  },
  {
   "cell_type": "code",
   "execution_count": 5,
   "metadata": {},
   "outputs": [
    {
     "name": "stdout",
     "output_type": "stream",
     "text": [
      "False\n"
     ]
    }
   ],
   "source": [
    "name = \"Chetan1\"\n",
    "char = name.isalpha()\n",
    "\n",
    "print(char)"
   ]
  },
  {
   "cell_type": "code",
   "execution_count": 7,
   "metadata": {},
   "outputs": [
    {
     "name": "stdout",
     "output_type": "stream",
     "text": [
      "Chetan is contains only alphabates\n"
     ]
    }
   ],
   "source": [
    "name = \"Chetan\"\n",
    "char = name.isalpha()\n",
    "\n",
    "if char == 1:\n",
    "    print(name ,\"is contains only alphabates\")\n",
    "else:\n",
    "    print(name,\"is not contains only alpha\")\n"
   ]
  },
  {
   "cell_type": "code",
   "execution_count": 23,
   "metadata": {},
   "outputs": [
    {
     "name": "stdout",
     "output_type": "stream",
     "text": [
      "True\n"
     ]
    }
   ],
   "source": [
    "name = \"cheTan like To pLay cRicket\"\n",
    "char = name.startswith(\"cheTan\")\n",
    "\n",
    "print(char)"
   ]
  },
  {
   "cell_type": "code",
   "execution_count": 2,
   "metadata": {},
   "outputs": [
    {
     "name": "stdout",
     "output_type": "stream",
     "text": [
      "Enter a number:4312\n",
      "The total sum of digits is: 2134\n"
     ]
    }
   ],
   "source": [
    "n=int(input(\"Enter a number:\"))\n",
    "tot=0\n",
    "while(n>0):\n",
    "    dig=n%10\n",
    "   \n",
    "    tot=tot*10+dig\n",
    "    n=n//10\n",
    "print(\"The total sum of digits is:\",tot)"
   ]
  },
  {
   "cell_type": "code",
   "execution_count": null,
   "metadata": {},
   "outputs": [],
   "source": []
  }
 ],
 "metadata": {
  "kernelspec": {
   "display_name": "Python 3",
   "language": "python",
   "name": "python3"
  },
  "language_info": {
   "codemirror_mode": {
    "name": "ipython",
    "version": 3
   },
   "file_extension": ".py",
   "mimetype": "text/x-python",
   "name": "python",
   "nbconvert_exporter": "python",
   "pygments_lexer": "ipython3",
   "version": "3.7.3"
  }
 },
 "nbformat": 4,
 "nbformat_minor": 2
}
