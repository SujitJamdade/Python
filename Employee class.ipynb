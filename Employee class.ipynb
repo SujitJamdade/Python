{
 "cells": [
  {
   "cell_type": "code",
   "execution_count": 1,
   "metadata": {},
   "outputs": [
    {
     "name": "stdout",
     "output_type": "stream",
     "text": [
      "3\n",
      "Ajit\n",
      "150\n",
      "25\n",
      "M\n",
      "Aakanksha\n",
      "151\n",
      "14\n",
      "F\n",
      "Avinash\n",
      "17\n",
      "17\n",
      "M\n",
      "150\n",
      "16\n",
      "3\n",
      "25\n",
      "2\n"
     ]
    }
   ],
   "source": [
    "class Employee:\n",
    "    def __init__(self,name,id,age,gender):\n",
    "        self.name = name\n",
    "        self.id = id\n",
    "        self.age = age\n",
    "        self.gender = gender \n",
    "        \n",
    "class Organisation:\n",
    "    def __init__(self,org_name, employee):\n",
    "        self.org_name =org_name\n",
    "        self.employee = employee\n",
    "        \n",
    "    def addEpmloyee(self,name,id,age,gender):\n",
    "        self.employee.append(Employee(name,id,age,gender))\n",
    "        \n",
    "    def getEmployeecount(self):\n",
    "        return len(self.employee)\n",
    "\n",
    "    def findEmployeeAge(self,id):\n",
    "        for i in self.employee:\n",
    "            if i.id == id:\n",
    "                return i.age\n",
    "        return -1\n",
    "    \n",
    "    def countEmployees(self,age):\n",
    "        count = 0\n",
    "        for i in self.employee:\n",
    "            if i.age>age:\n",
    "                count+=1\n",
    "        return count\n",
    "    \n",
    "if __name__ == \"__main__\":\n",
    "    employee = []\n",
    "    o= Organisation(\"XYZ\",employee)\n",
    "    n = int(input())\n",
    "    for i in range(n):\n",
    "        name = input()\n",
    "        id = int(input())\n",
    "        age = int(input())\n",
    "        gender = input()\n",
    "        o.addEpmloyee(name,id,age,gender)\n",
    "        \n",
    "    id = int(input())\n",
    "    age = int(input())\n",
    "    print(o.getEmployeecount())\n",
    "    print(o.findEmployeeAge(id))\n",
    "    print(o.countEmployees(age))"
   ]
  },
  {
   "cell_type": "code",
   "execution_count": null,
   "metadata": {},
   "outputs": [],
   "source": []
  }
 ],
 "metadata": {
  "kernelspec": {
   "display_name": "Python 3",
   "language": "python",
   "name": "python3"
  },
  "language_info": {
   "codemirror_mode": {
    "name": "ipython",
    "version": 3
   },
   "file_extension": ".py",
   "mimetype": "text/x-python",
   "name": "python",
   "nbconvert_exporter": "python",
   "pygments_lexer": "ipython3",
   "version": "3.7.3"
  }
 },
 "nbformat": 4,
 "nbformat_minor": 2
}
