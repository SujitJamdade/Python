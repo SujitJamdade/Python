{
 "cells": [
  {
   "cell_type": "code",
   "execution_count": 1,
   "metadata": {},
   "outputs": [
    {
     "name": "stdout",
     "output_type": "stream",
     "text": [
      "result is 8\n"
     ]
    }
   ],
   "source": [
    "x = 5\n",
    "y = 3\n",
    "z = x + y\n",
    "\n",
    "print(f'result is {z}')"
   ]
  },
  {
   "cell_type": "code",
   "execution_count": 2,
   "metadata": {},
   "outputs": [
    {
     "name": "stdout",
     "output_type": "stream",
     "text": [
      "result is 2\n"
     ]
    }
   ],
   "source": [
    "x = 5\n",
    "y = 3\n",
    "z = x - y\n",
    "\n",
    "print(f'result is {z}')"
   ]
  },
  {
   "cell_type": "code",
   "execution_count": 3,
   "metadata": {},
   "outputs": [
    {
     "name": "stdout",
     "output_type": "stream",
     "text": [
      "result is 1.6666666666666667\n"
     ]
    }
   ],
   "source": [
    "x = 5\n",
    "y = 3\n",
    "z = x / y\n",
    "\n",
    "print(f'result is {z}')"
   ]
  },
  {
   "cell_type": "code",
   "execution_count": 4,
   "metadata": {},
   "outputs": [
    {
     "name": "stdout",
     "output_type": "stream",
     "text": [
      "result is 1\n"
     ]
    }
   ],
   "source": [
    "x = 5\n",
    "y = 3\n",
    "z = x // y\n",
    "\n",
    "print(f'result is {z}')"
   ]
  },
  {
   "cell_type": "code",
   "execution_count": 5,
   "metadata": {},
   "outputs": [
    {
     "name": "stdout",
     "output_type": "stream",
     "text": [
      "result is 2\n"
     ]
    }
   ],
   "source": [
    "x = 5\n",
    "y = 3\n",
    "z = x % y\n",
    "\n",
    "print(f'result is {z}')"
   ]
  },
  {
   "cell_type": "code",
   "execution_count": 6,
   "metadata": {},
   "outputs": [],
   "source": [
    "x = 0x0a\n",
    "y = 0x05"
   ]
  },
  {
   "cell_type": "code",
   "execution_count": 7,
   "metadata": {},
   "outputs": [
    {
     "data": {
      "text/plain": [
       "10"
      ]
     },
     "execution_count": 7,
     "metadata": {},
     "output_type": "execute_result"
    }
   ],
   "source": [
    "x"
   ]
  },
  {
   "cell_type": "code",
   "execution_count": 8,
   "metadata": {},
   "outputs": [
    {
     "data": {
      "text/plain": [
       "5"
      ]
     },
     "execution_count": 8,
     "metadata": {},
     "output_type": "execute_result"
    }
   ],
   "source": [
    "y"
   ]
  },
  {
   "cell_type": "code",
   "execution_count": 9,
   "metadata": {},
   "outputs": [
    {
     "data": {
      "text/plain": [
       "'0b1010'"
      ]
     },
     "execution_count": 9,
     "metadata": {},
     "output_type": "execute_result"
    }
   ],
   "source": [
    "bin(x)"
   ]
  },
  {
   "cell_type": "code",
   "execution_count": 10,
   "metadata": {},
   "outputs": [
    {
     "data": {
      "text/plain": [
       "'0xa'"
      ]
     },
     "execution_count": 10,
     "metadata": {},
     "output_type": "execute_result"
    }
   ],
   "source": [
    "hex(x)"
   ]
  },
  {
   "cell_type": "code",
   "execution_count": 13,
   "metadata": {},
   "outputs": [
    {
     "name": "stdout",
     "output_type": "stream",
     "text": [
      "Enter the pass key : Jivan\n",
      "Enter the pass key : KK\n",
      "Enter the pass key : \n",
      "Enter the pass key : sujit\n",
      "Enter the pass key : Sujit\n"
     ]
    }
   ],
   "source": [
    "password = \"Sujit\"\n",
    "pass_key = \"\"\n",
    "\n",
    "while pass_key != password:\n",
    "    pass_key = input(\"Enter the pass key : \")"
   ]
  },
  {
   "cell_type": "code",
   "execution_count": 21,
   "metadata": {},
   "outputs": [
    {
     "name": "stdout",
     "output_type": "stream",
     "text": [
      "attempt : 1Enter the pass key : Sujit\n",
      "Sign in Successful \n"
     ]
    }
   ],
   "source": [
    "password = \"Sujit\"\n",
    "pass_key = \"\"\n",
    "auth = True\n",
    "count = 0\n",
    "max_attempt = 5\n",
    "\n",
    "while pass_key != password:\n",
    "    count+=1\n",
    "    if count > max_attempt:\n",
    "        auth = False\n",
    "        break\n",
    "    pass_key = input(f'attempt : {count}'\"Enter the pass key : \")\n",
    "    \n",
    "print(\"Sign in Successful \" if auth else \"Calling the FBI...\")"
   ]
  },
  {
   "cell_type": "code",
   "execution_count": 24,
   "metadata": {},
   "outputs": [
    {
     "name": "stdout",
     "output_type": "stream",
     "text": [
      "attempt : 1 Enter the pass key : Sujit\n",
      "Sign in Successful \n"
     ]
    }
   ],
   "source": [
    "password = \"Sujit\"\n",
    "pass_key = \"\"\n",
    "auth = False\n",
    "count = 0\n",
    "max_attempt = 5\n",
    "\n",
    "while pass_key != password:\n",
    "    count+=1\n",
    "    if count > max_attempt: break\n",
    "    pass_key = input(f'attempt : {count} '\"Enter the pass key : \")\n",
    "    \n",
    "else: \n",
    "    auth = True\n",
    "    \n",
    "print(\"Sign in Successful \" if auth else \"Calling the FBI...\")"
   ]
  },
  {
   "cell_type": "code",
   "execution_count": 32,
   "metadata": {},
   "outputs": [
    {
     "name": "stdout",
     "output_type": "stream",
     "text": [
      "Meow\n"
     ]
    }
   ],
   "source": [
    "def main():\n",
    "    x= kitten()\n",
    "    print(x)\n",
    "def kitten():\n",
    "    return \"Meow\"\n",
    "    \n",
    "if __name__ == \"__main__\": main()"
   ]
  },
  {
   "cell_type": "code",
   "execution_count": 2,
   "metadata": {},
   "outputs": [
    {
     "name": "stdout",
     "output_type": "stream",
     "text": [
      "ajit\n",
      "jivan\n",
      "avinash\n",
      "Sujit\n"
     ]
    }
   ],
   "source": [
    "def main():\n",
    "    x = (\"ajit\",\"jivan\",\"avinash\",\"Sujit\")\n",
    "    friends(*x)\n",
    "\n",
    "def friends(*args):\n",
    "    if len(args):\n",
    "        for s in args:\n",
    "            print(s)\n",
    "    \n",
    "    else:\n",
    "        print(\"Meow\")\n",
    "    \n",
    "    \n",
    "if __name__ == \"__main__\": main()"
   ]
  },
  {
   "cell_type": "code",
   "execution_count": 3,
   "metadata": {},
   "outputs": [
    {
     "name": "stdout",
     "output_type": "stream",
     "text": [
      "kitten Buffy says meow \n",
      "kitten Zilla says grr \n",
      "kitten Angel says rawr \n"
     ]
    }
   ],
   "source": [
    "def main():\n",
    "    x = dict(Buffy = \"meow\", Zilla = \"grr\", Angel = \"rawr\")\n",
    "    kitten(x)\n",
    "    \n",
    "def kitten(**kwargs):\n",
    "    if len(kwargs):\n",
    "        for k in kwargs:\n",
    "            print(\"kitten {} says {} \" .format(k, kwargs[k]))\n",
    "    else:\n",
    "        print(\"Meow\")\n",
    "    \n",
    "if __name__ == \"__main__\": main()"
   ]
  },
  {
   "cell_type": "code",
   "execution_count": 33,
   "metadata": {},
   "outputs": [
    {
     "name": "stdout",
     "output_type": "stream",
     "text": [
      "5 10 15 20 25 30 35 40 45 50 \n"
     ]
    }
   ],
   "source": [
    "def main():\n",
    "    for i in inclusive_range(5,50,5):\n",
    "        print(i, end = \" \")\n",
    "    print()\n",
    "        \n",
    "def inclusive_range(*args):\n",
    "    \n",
    "    numargs = len(args)\n",
    "    start = 0\n",
    "    step = 1\n",
    "    \n",
    "    #Initialize parameters\n",
    "    if numargs < 1:\n",
    "        raise TypeError(f'expected at least 1 argument, got {numargs}')\n",
    "    elif numargs == 1:\n",
    "        stop = args[0]\n",
    "    elif numargs == 2:\n",
    "        (start, stop) = args\n",
    "    elif numargs == 3:\n",
    "        (start, stop, step) = args\n",
    "    else: raise TypeError(f'expected at most 3 arguments, got {numargs}')\n",
    "\n",
    "    # generator\n",
    "    i = start\n",
    "    while i<=stop:\n",
    "        yield i\n",
    "        i +=step\n",
    "        \n",
    "if __name__ == \"__main__\": main()"
   ]
  },
  {
   "cell_type": "code",
   "execution_count": 35,
   "metadata": {},
   "outputs": [
    {
     "name": "stdout",
     "output_type": "stream",
     "text": [
      "this is f1\n"
     ]
    }
   ],
   "source": [
    "def f1():\n",
    "    print(\"this is f1\")\n",
    "    \n",
    "f1()"
   ]
  },
  {
   "cell_type": "code",
   "execution_count": 37,
   "metadata": {},
   "outputs": [
    {
     "name": "stdout",
     "output_type": "stream",
     "text": [
      "this is f1\n"
     ]
    }
   ],
   "source": [
    "def f1():\n",
    "    print(\"this is f1\")\n",
    "    \n",
    "x = f1\n",
    "x()"
   ]
  },
  {
   "cell_type": "code",
   "execution_count": 38,
   "metadata": {},
   "outputs": [
    {
     "name": "stdout",
     "output_type": "stream",
     "text": [
      "This is f2\n"
     ]
    }
   ],
   "source": [
    "def f1():\n",
    "    def f2():\n",
    "        print(\"This is f2\")\n",
    "    return f2\n",
    "\n",
    "x = f1()\n",
    "x()"
   ]
  },
  {
   "cell_type": "code",
   "execution_count": 47,
   "metadata": {},
   "outputs": [
    {
     "name": "stdout",
     "output_type": "stream",
     "text": [
      "t1 :  1613481262.5780416\n",
      "Big sum : 49995000\n",
      "t2 :  1613481262.5830276\n",
      "Elapsed time : 4.986047744750977 ms \n"
     ]
    }
   ],
   "source": [
    "import time \n",
    "\n",
    "def elapsed_time(f):\n",
    "    def wrapper():\n",
    "        t1 = time.time()\n",
    "        print(\"t1 : \",t1)\n",
    "        f()\n",
    "        t2 = time.time()\n",
    "        print(\"t2 : \",t2)\n",
    "        print(f'Elapsed time : {(t2-t1) * 1000} ms ' )\n",
    "    return wrapper   \n",
    "\n",
    "@elapsed_time\n",
    "\n",
    "def big_sum():\n",
    "    num_list = []\n",
    "    for num in (range(0,10000)):\n",
    "        num_list.append(num)\n",
    "    print(f'Big sum : {sum(num_list)}')\n",
    "        \n",
    "\n",
    "def main():\n",
    "    big_sum()\n",
    "\n",
    "if __name__ == \"__main__\": main()"
   ]
  },
  {
   "cell_type": "code",
   "execution_count": null,
   "metadata": {},
   "outputs": [],
   "source": []
  }
 ],
 "metadata": {
  "kernelspec": {
   "display_name": "Python 3",
   "language": "python",
   "name": "python3"
  },
  "language_info": {
   "codemirror_mode": {
    "name": "ipython",
    "version": 3
   },
   "file_extension": ".py",
   "mimetype": "text/x-python",
   "name": "python",
   "nbconvert_exporter": "python",
   "pygments_lexer": "ipython3",
   "version": "3.7.3"
  }
 },
 "nbformat": 4,
 "nbformat_minor": 2
}
