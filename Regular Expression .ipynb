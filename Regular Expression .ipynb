{
 "cells": [
  {
   "cell_type": "code",
   "execution_count": 2,
   "metadata": {},
   "outputs": [],
   "source": [
    "import re "
   ]
  },
  {
   "cell_type": "code",
   "execution_count": 3,
   "metadata": {},
   "outputs": [
    {
     "name": "stdout",
     "output_type": "stream",
     "text": [
      "<re.Match object; span=(0, 4), match='caat'>\n"
     ]
    }
   ],
   "source": [
    "print(re.match(\"ca*t\",\"caat\"))"
   ]
  },
  {
   "cell_type": "code",
   "execution_count": 4,
   "metadata": {},
   "outputs": [
    {
     "name": "stdout",
     "output_type": "stream",
     "text": [
      "['Welcome to']\n"
     ]
    }
   ],
   "source": [
    "line = \"Welcome to python session\"\n",
    "c=re.compile('.*to')\n",
    "res = c.findall(line)\n",
    "print(res)"
   ]
  },
  {
   "cell_type": "code",
   "execution_count": 5,
   "metadata": {},
   "outputs": [
    {
     "name": "stdout",
     "output_type": "stream",
     "text": [
      "['Welcome to pyth']\n"
     ]
    }
   ],
   "source": [
    "line = \"Welcome to python session\"\n",
    "c=re.compile('.*th')\n",
    "res = c.findall(line)\n",
    "print(res)"
   ]
  },
  {
   "cell_type": "code",
   "execution_count": 6,
   "metadata": {},
   "outputs": [
    {
     "name": "stdout",
     "output_type": "stream",
     "text": [
      "['Welcome 123 to pyth']\n"
     ]
    }
   ],
   "source": [
    "line = \"Welcome 123 to python session\"\n",
    "c=re.compile('.*th')\n",
    "res = c.findall(line)\n",
    "print(res)"
   ]
  },
  {
   "cell_type": "code",
   "execution_count": 11,
   "metadata": {},
   "outputs": [
    {
     "name": "stdout",
     "output_type": "stream",
     "text": [
      "None\n"
     ]
    }
   ],
   "source": [
    "line = \"Welcome to python session\"\n",
    "c=re.compile('.*o$')\n",
    "res = c.match(line)\n",
    "print(res)"
   ]
  },
  {
   "cell_type": "code",
   "execution_count": 12,
   "metadata": {},
   "outputs": [
    {
     "name": "stdout",
     "output_type": "stream",
     "text": [
      "<re.Match object; span=(0, 25), match='Welcome to python session'>\n"
     ]
    }
   ],
   "source": [
    "line = \"Welcome to python session\"\n",
    "c=re.compile('.*n$')\n",
    "res = c.match(line)\n",
    "print(res)"
   ]
  },
  {
   "cell_type": "code",
   "execution_count": 13,
   "metadata": {},
   "outputs": [
    {
     "name": "stdout",
     "output_type": "stream",
     "text": [
      "['hes', ' es', 'sess']\n"
     ]
    }
   ],
   "source": [
    "line = \"Thes es a Python session\"\n",
    "x= re.findall(\".es+\",line)\n",
    "print(x)"
   ]
  },
  {
   "cell_type": "code",
   "execution_count": 15,
   "metadata": {},
   "outputs": [
    {
     "name": "stdout",
     "output_type": "stream",
     "text": [
      "['hes', ' es', 'ses']\n"
     ]
    }
   ],
   "source": [
    "line = \"Thes es a Python session\"\n",
    "x= re.findall(\".es{1}\",line)\n",
    "print(x)"
   ]
  },
  {
   "cell_type": "code",
   "execution_count": 17,
   "metadata": {},
   "outputs": [
    {
     "name": "stdout",
     "output_type": "stream",
     "text": [
      "['sesss']\n"
     ]
    }
   ],
   "source": [
    "line = \"Thes es a Python sesssion\"\n",
    "x= re.findall(\".es{3}\",line)\n",
    "print(x)"
   ]
  },
  {
   "cell_type": "code",
   "execution_count": 30,
   "metadata": {},
   "outputs": [],
   "source": [
    "# re.M is used for multiple line\n",
    "# re.I is used for ignoring case sesnsitive\n",
    "\n",
    "line = '''Here is a Python session\n",
    "hello there\n",
    "how do you do?'''\n",
    "x = re.findall('^h.*',line,re.M|re.I)  # ^ is use for checking all line"
   ]
  },
  {
   "cell_type": "code",
   "execution_count": 31,
   "metadata": {},
   "outputs": [
    {
     "name": "stdout",
     "output_type": "stream",
     "text": [
      "['Here is a Python session', 'hello there', 'how do you do?']\n"
     ]
    }
   ],
   "source": [
    "print(x)"
   ]
  },
  {
   "cell_type": "code",
   "execution_count": 32,
   "metadata": {},
   "outputs": [],
   "source": [
    "y = re.findall('\\Ah.*',line,re.M|re.I)  # \\A is used for only begining line"
   ]
  },
  {
   "cell_type": "code",
   "execution_count": 33,
   "metadata": {},
   "outputs": [
    {
     "name": "stdout",
     "output_type": "stream",
     "text": [
      "['Here is a Python session']\n"
     ]
    }
   ],
   "source": [
    "print(y)"
   ]
  },
  {
   "cell_type": "code",
   "execution_count": 37,
   "metadata": {},
   "outputs": [],
   "source": [
    "line = '''Here is a session\n",
    "On Python\n",
    "how do you do?n'''"
   ]
  },
  {
   "cell_type": "code",
   "execution_count": 38,
   "metadata": {},
   "outputs": [
    {
     "name": "stdout",
     "output_type": "stream",
     "text": [
      "['Here is a session', 'On Python', 'how do you do?n']\n"
     ]
    }
   ],
   "source": [
    "x= re.findall(\".*n$\",line,re.M|re.I)  # $ checking is it all lines ending with given character \n",
    "print(x)"
   ]
  },
  {
   "cell_type": "code",
   "execution_count": 39,
   "metadata": {},
   "outputs": [
    {
     "name": "stdout",
     "output_type": "stream",
     "text": [
      "['how do you do?n']\n"
     ]
    }
   ],
   "source": [
    "y = re.findall(\".*n\\Z\",line,re.M|re.I)   # \\Z is only for last line\n",
    "print(y)"
   ]
  },
  {
   "cell_type": "code",
   "execution_count": 40,
   "metadata": {},
   "outputs": [
    {
     "name": "stdout",
     "output_type": "stream",
     "text": [
      "Match found : Is\n"
     ]
    }
   ],
   "source": [
    "line = \"Is this a Regular Exp\"\n",
    "x=re.match(\"is\",line,re.I)\n",
    "\n",
    "if x:\n",
    "    print(\"Match found :\",x.group())\n",
    "else:\n",
    "    print(\"No match\")"
   ]
  },
  {
   "cell_type": "code",
   "execution_count": 43,
   "metadata": {},
   "outputs": [
    {
     "name": "stdout",
     "output_type": "stream",
     "text": [
      "No match\n"
     ]
    }
   ],
   "source": [
    "line = \"Is this a Regular Exp\"\n",
    "x=re.match(\".*ex$\",line,re.I)\n",
    "\n",
    "if x:\n",
    "    print(\"Match found :\",x.group())\n",
    "else:\n",
    "    print(\"No match\")"
   ]
  },
  {
   "cell_type": "code",
   "execution_count": 44,
   "metadata": {},
   "outputs": [
    {
     "name": "stdout",
     "output_type": "stream",
     "text": [
      "Updated line :  This is a Python session \n"
     ]
    }
   ],
   "source": [
    "line = \"This is a Python session - topic regular expression\"\n",
    "\n",
    "# Delete the text after 'session'\n",
    "\n",
    "ad = re.sub(r'-.*$',\"\",line)\n",
    "print(\"Updated line : \",ad)"
   ]
  },
  {
   "cell_type": "code",
   "execution_count": 50,
   "metadata": {},
   "outputs": [
    {
     "name": "stdout",
     "output_type": "stream",
     "text": [
      "Phone Num :  564656546\n"
     ]
    }
   ],
   "source": [
    "#remove anything other than digit\n",
    "\n",
    "phone  = \"564656sfsdfsdg546gdagfad\"\n",
    "num = re.sub(r'\\D',\"\",phone)\n",
    "print(\"Phone Num : \",num)"
   ]
  },
  {
   "cell_type": "code",
   "execution_count": 52,
   "metadata": {},
   "outputs": [
    {
     "name": "stdout",
     "output_type": "stream",
     "text": [
      "['is', 'is']\n",
      "This line contain given expression\n"
     ]
    }
   ],
   "source": [
    "line = \"This is a python session\"\n",
    "x = re.findall(\"is\",line)\n",
    "print(x)\n",
    "if x:\n",
    "    print(\"This line contain given expression\")\n",
    "else:\n",
    "    print(\"No match\")"
   ]
  },
  {
   "cell_type": "code",
   "execution_count": 54,
   "metadata": {},
   "outputs": [
    {
     "name": "stdout",
     "output_type": "stream",
     "text": [
      "['This', 'is', 'a', 'python', 'session']\n"
     ]
    }
   ],
   "source": [
    "line = \"This is a python session\"\n",
    "x = re.split(\"\\s\",line)\n",
    "print(x)"
   ]
  },
  {
   "cell_type": "code",
   "execution_count": 55,
   "metadata": {},
   "outputs": [
    {
     "name": "stdout",
     "output_type": "stream",
     "text": [
      "['This', 'is', 'a python session']\n"
     ]
    }
   ],
   "source": [
    "x = re.split(\"\\s\",line,2)\n",
    "print(x)"
   ]
  },
  {
   "cell_type": "code",
   "execution_count": 58,
   "metadata": {},
   "outputs": [
    {
     "name": "stdout",
     "output_type": "stream",
     "text": [
      "['This', 'is', 'a', 'python', 'session']\n"
     ]
    }
   ],
   "source": [
    "line = \"This is a python session\"\n",
    "x = re.split(\" \",line)\n",
    "print(x)"
   ]
  },
  {
   "cell_type": "code",
   "execution_count": 64,
   "metadata": {},
   "outputs": [
    {
     "name": "stdout",
     "output_type": "stream",
     "text": [
      "<re.Match object; span=(0, 36), match='\"Simika jain\",\"23\",\"TCS\",\"MUM-India\"'>\n",
      "<re.Match object; span=(0, 13), match='\"Simika jain\"'>\n"
     ]
    }
   ],
   "source": [
    "line = '\"Simika jain\",\"23\",\"TCS\",\"MUM-India\"'\n",
    "x = re.match('\".*\"',line)        # Greedy match\n",
    "print(x)\n",
    "y = re.match('\".*?\"',line)       # Non Greedy match\n",
    "print(y)"
   ]
  },
  {
   "cell_type": "code",
   "execution_count": null,
   "metadata": {},
   "outputs": [],
   "source": []
  }
 ],
 "metadata": {
  "kernelspec": {
   "display_name": "Python 3",
   "language": "python",
   "name": "python3"
  },
  "language_info": {
   "codemirror_mode": {
    "name": "ipython",
    "version": 3
   },
   "file_extension": ".py",
   "mimetype": "text/x-python",
   "name": "python",
   "nbconvert_exporter": "python",
   "pygments_lexer": "ipython3",
   "version": "3.7.3"
  }
 },
 "nbformat": 4,
 "nbformat_minor": 2
}
