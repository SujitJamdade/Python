{
 "cells": [
  {
   "cell_type": "raw",
   "metadata": {},
   "source": [
    "Que = 1\n",
    "\n",
    "*\n",
    "**\n",
    "***\n",
    "****\n",
    "*****"
   ]
  },
  {
   "cell_type": "code",
   "execution_count": 3,
   "metadata": {},
   "outputs": [
    {
     "name": "stdout",
     "output_type": "stream",
     "text": [
      "Enter the value : 5\n",
      "*\n",
      "**\n",
      "***\n",
      "****\n",
      "*****\n"
     ]
    }
   ],
   "source": [
    "n = int(input(\"Enter the value : \"))\n",
    "for i in range(1,n+1):\n",
    "    print('*'*i)"
   ]
  },
  {
   "cell_type": "code",
   "execution_count": 18,
   "metadata": {},
   "outputs": [
    {
     "name": "stdout",
     "output_type": "stream",
     "text": [
      "Enter the value : 5\n",
      "*\n",
      "**\n",
      "***\n",
      "****\n",
      "*****\n"
     ]
    }
   ],
   "source": [
    "n = int(input(\"Enter the value : \"))\n",
    "for i in range(1,n+1):\n",
    "    for j in range(1,i+1):\n",
    "        print(\"*\",end =\"\")\n",
    "#     print()\n",
    "    print(\"\\r\")  # ending line after each row"
   ]
  },
  {
   "cell_type": "code",
   "execution_count": 15,
   "metadata": {},
   "outputs": [
    {
     "name": "stdout",
     "output_type": "stream",
     "text": [
      "Enter the value : 5\n",
      "*\n",
      "**\n",
      "***\n",
      "****\n",
      "*****\n"
     ]
    }
   ],
   "source": [
    "n = int(input(\"Enter the value : \"))\n",
    "m =[]\n",
    "for i in range(1,n+1):\n",
    "    m.append(\"*\"*i)\n",
    "print(\"\\n\".join(m))"
   ]
  },
  {
   "cell_type": "raw",
   "metadata": {},
   "source": [
    "Que = 2\n",
    "\n",
    "1\n",
    "22\n",
    "333\n",
    "4444\n",
    "55555"
   ]
  },
  {
   "cell_type": "code",
   "execution_count": 6,
   "metadata": {},
   "outputs": [
    {
     "name": "stdout",
     "output_type": "stream",
     "text": [
      "Enter the value : 5\n",
      "1  \n",
      "22  \n",
      "333  \n",
      "4444  \n",
      "55555  \n"
     ]
    }
   ],
   "source": [
    "n = int(input(\"Enter the value : \"))\n",
    "for i in range(1,n+1):\n",
    "    print(str(i)*i,\" \")"
   ]
  },
  {
   "cell_type": "code",
   "execution_count": 45,
   "metadata": {},
   "outputs": [
    {
     "name": "stdout",
     "output_type": "stream",
     "text": [
      "Enter the value : 5\n",
      "1\n",
      "22\n",
      "333\n",
      "4444\n",
      "55555\n"
     ]
    }
   ],
   "source": [
    "n = int(input(\"Enter the value : \"))\n",
    "for i in range(1,n+1):\n",
    "    for j in range(1,i+1):\n",
    "        print(i,end =\"\")\n",
    "    print(\"\\r\")"
   ]
  },
  {
   "cell_type": "raw",
   "metadata": {},
   "source": [
    "Que = 3 \n",
    "\n",
    "1 \n",
    "1 2 \n",
    "1 2 3 \n",
    "1 2 3 4 \n",
    "1 2 3 4 5 "
   ]
  },
  {
   "cell_type": "code",
   "execution_count": 17,
   "metadata": {},
   "outputs": [
    {
     "name": "stdout",
     "output_type": "stream",
     "text": [
      "Enter the value : 5\n",
      "1 \n",
      "1 2 \n",
      "1 2 3 \n",
      "1 2 3 4 \n",
      "1 2 3 4 5 \n"
     ]
    }
   ],
   "source": [
    "n = int(input(\"Enter the value : \"))\n",
    "for i in range(1,n+1):\n",
    "    for j in range(1,i+1):\n",
    "        print(j,end = \" \")\n",
    "    print(\"\\r\")"
   ]
  },
  {
   "cell_type": "raw",
   "metadata": {},
   "source": [
    "Que = 4\n",
    "\n",
    "1 \n",
    "2 3 \n",
    "4 5 6 \n",
    "7 8 9 10 \n",
    "11 12 13 14 15 "
   ]
  },
  {
   "cell_type": "code",
   "execution_count": 16,
   "metadata": {},
   "outputs": [
    {
     "name": "stdout",
     "output_type": "stream",
     "text": [
      "Enter the value : 5\n",
      "1 \n",
      "2 3 \n",
      "4 5 6 \n",
      "7 8 9 10 \n",
      "11 12 13 14 15 \n"
     ]
    }
   ],
   "source": [
    "n = int(input(\"Enter the value : \"))\n",
    "num = 1\n",
    "for i in range(1,n+1):\n",
    "    \n",
    "    \n",
    "    \n",
    "    for j in range(1,i+1):\n",
    "        print(num, end = \" \")\n",
    "        num+=1\n",
    "    print(\"\\r\")"
   ]
  },
  {
   "cell_type": "raw",
   "metadata": {},
   "source": [
    "# Que = 5\n",
    "\n",
    "A \n",
    "B B \n",
    "C C C \n",
    "D D D D \n",
    "E E E E E"
   ]
  },
  {
   "cell_type": "code",
   "execution_count": 51,
   "metadata": {},
   "outputs": [
    {
     "name": "stdout",
     "output_type": "stream",
     "text": [
      "Enter the value : 5\n",
      "A \n",
      "B B \n",
      "C C C \n",
      "D D D D \n",
      "E E E E E \n"
     ]
    }
   ],
   "source": [
    "n = int(input(\"Enter the value : \"))\n",
    "num = 65\n",
    "for i in range(1,n+1):\n",
    "    \n",
    "    for j in range(1,i+1):\n",
    "        print(chr(num),end=\" \")\n",
    "    num+=1\n",
    "    print(\"\\r\")"
   ]
  },
  {
   "cell_type": "code",
   "execution_count": 49,
   "metadata": {},
   "outputs": [
    {
     "name": "stdout",
     "output_type": "stream",
     "text": [
      "Enter the value : 5\n",
      "A \n",
      "B C \n",
      "D E F \n",
      "G H I J \n",
      "K L M N O \n"
     ]
    }
   ],
   "source": [
    "n = int(input(\"Enter the value : \"))\n",
    "num = 65\n",
    "for i in range(1,n+1):\n",
    "    \n",
    "    for j in range(1,i+1):\n",
    "        print(chr(num),end=\" \")\n",
    "        num+=1\n",
    "    print(\"\\r\")"
   ]
  },
  {
   "cell_type": "code",
   "execution_count": null,
   "metadata": {},
   "outputs": [],
   "source": []
  },
  {
   "cell_type": "raw",
   "metadata": {},
   "source": [
    "Que = 6\n",
    "\n",
    "    *\n",
    "   **\n",
    "  ***\n",
    " ****\n",
    "*****"
   ]
  },
  {
   "cell_type": "code",
   "execution_count": 59,
   "metadata": {},
   "outputs": [
    {
     "name": "stdout",
     "output_type": "stream",
     "text": [
      "Enter the value : 5\n",
      "    *\n",
      "   **\n",
      "  ***\n",
      " ****\n",
      "*****\n"
     ]
    }
   ],
   "source": [
    "n = int(input(\"Enter the value : \"))\n",
    "space = n-1\n",
    "\n",
    "for i in range(1,n+1):\n",
    "    \n",
    "    for blank in range(1,space+1):\n",
    "        print(\" \",end=\"\")\n",
    "    \n",
    "    space-=1\n",
    "    \n",
    "    for j in range(1,i+1):\n",
    "        print(\"*\",end=\"\")\n",
    "        \n",
    "    print(\"\\r\")\n",
    "    "
   ]
  },
  {
   "cell_type": "code",
   "execution_count": null,
   "metadata": {},
   "outputs": [],
   "source": []
  }
 ],
 "metadata": {
  "kernelspec": {
   "display_name": "Python 3",
   "language": "python",
   "name": "python3"
  },
  "language_info": {
   "codemirror_mode": {
    "name": "ipython",
    "version": 3
   },
   "file_extension": ".py",
   "mimetype": "text/x-python",
   "name": "python",
   "nbconvert_exporter": "python",
   "pygments_lexer": "ipython3",
   "version": "3.7.3"
  }
 },
 "nbformat": 4,
 "nbformat_minor": 2
}
