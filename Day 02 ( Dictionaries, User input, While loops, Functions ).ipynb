{
 "cells": [
  {
   "cell_type": "markdown",
   "metadata": {},
   "source": [
    "# Sujit Bhausaheb Jamdade\n",
    "\n",
    "https://www.linkedin.com/in/sujit-jamdade-615203178/"
   ]
  },
  {
   "cell_type": "markdown",
   "metadata": {},
   "source": [
    "## Dictionaries"
   ]
  },
  {
   "cell_type": "markdown",
   "metadata": {},
   "source": [
    "Dictionaries store connections between pieces of\n",
    "information. Each item in a dictionary is a key-value pair"
   ]
  },
  {
   "cell_type": "code",
   "execution_count": 1,
   "metadata": {},
   "outputs": [
    {
     "data": {
      "text/plain": [
       "{'color': 'green', 'points': 5}"
      ]
     },
     "execution_count": 1,
     "metadata": {},
     "output_type": "execute_result"
    }
   ],
   "source": [
    "# A simple dictionary\n",
    "\n",
    "alien = {'color':'green','points':5}\n",
    "alien"
   ]
  },
  {
   "cell_type": "code",
   "execution_count": 2,
   "metadata": {},
   "outputs": [
    {
     "name": "stdout",
     "output_type": "stream",
     "text": [
      "The alien's color is green\n"
     ]
    }
   ],
   "source": [
    "# Accessing a value\n",
    "\n",
    "print(\"The alien's color is \" + alien['color'])"
   ]
  },
  {
   "cell_type": "code",
   "execution_count": 3,
   "metadata": {},
   "outputs": [
    {
     "data": {
      "text/plain": [
       "{'color': 'green', 'points': 5, 'x_position': 0}"
      ]
     },
     "execution_count": 3,
     "metadata": {},
     "output_type": "execute_result"
    }
   ],
   "source": [
    "# Adding a new key-value pair\n",
    "\n",
    "alien['x_position']=0\n",
    "alien"
   ]
  },
  {
   "cell_type": "code",
   "execution_count": 8,
   "metadata": {},
   "outputs": [
    {
     "name": "stdout",
     "output_type": "stream",
     "text": [
      "Sujit Loves 7\n",
      "Ajit Loves 18\n",
      "Avinash Loves 10\n"
     ]
    }
   ],
   "source": [
    "# Looping through all key-value pairs\n",
    "\n",
    "fav_num = {'Sujit':7,'Ajit':18,'Avinash':10}\n",
    "for name, num in fav_num.items():\n",
    "    print(name,\"Loves\",num)"
   ]
  },
  {
   "cell_type": "code",
   "execution_count": 6,
   "metadata": {},
   "outputs": [
    {
     "name": "stdout",
     "output_type": "stream",
     "text": [
      "Hello Sujit\n",
      "Hello Ajit\n",
      "Hello Avinash\n"
     ]
    }
   ],
   "source": [
    "# Looping through all keys\n",
    "\n",
    "fav_num = {'Sujit':7,'Ajit':18,'Avinash':10}\n",
    "for name in fav_num.keys():\n",
    "    print(\"Hello\",name)\n"
   ]
  },
  {
   "cell_type": "code",
   "execution_count": 7,
   "metadata": {},
   "outputs": [
    {
     "name": "stdout",
     "output_type": "stream",
     "text": [
      "Fav number is : 7\n",
      "Fav number is : 18\n",
      "Fav number is : 10\n"
     ]
    }
   ],
   "source": [
    "# Looping through all the values\n",
    "\n",
    "fav_num = {'Sujit':7,'Ajit':18,'Avinash':10}\n",
    "for num in fav_num.values():\n",
    "    print(\"Fav number is :\",num)"
   ]
  },
  {
   "cell_type": "markdown",
   "metadata": {},
   "source": [
    "## User input "
   ]
  },
  {
   "cell_type": "markdown",
   "metadata": {},
   "source": [
    "Your programs can prompt the user for input. All input is\n",
    "stored as a string."
   ]
  },
  {
   "cell_type": "code",
   "execution_count": 11,
   "metadata": {},
   "outputs": [
    {
     "name": "stdout",
     "output_type": "stream",
     "text": [
      "What's your name : Sujit\n",
      "Hello Sujit !\n"
     ]
    }
   ],
   "source": [
    "# Prompting for a value\n",
    "\n",
    "name = input(\"What's your name :\"\" \")\n",
    "print(\"Hello\",name+\" !\")"
   ]
  },
  {
   "cell_type": "code",
   "execution_count": 13,
   "metadata": {},
   "outputs": [
    {
     "name": "stdout",
     "output_type": "stream",
     "text": [
      "How old are you : 21\n",
      "What's the value of pi : 3.14\n"
     ]
    }
   ],
   "source": [
    "# Prompting for numerical input\n",
    "\n",
    "age = input(\"How old are you : \")\n",
    "age = int(age)\n",
    "\n",
    "pi = input(\"What's the value of pi : \")\n",
    "pi = float(pi)"
   ]
  },
  {
   "cell_type": "markdown",
   "metadata": {},
   "source": [
    "## While loop "
   ]
  },
  {
   "cell_type": "markdown",
   "metadata": {},
   "source": [
    "A while loop repeats a block of code as long as a certain\n",
    "condition is true."
   ]
  },
  {
   "cell_type": "code",
   "execution_count": 1,
   "metadata": {},
   "outputs": [
    {
     "name": "stdout",
     "output_type": "stream",
     "text": [
      "1\n",
      "2\n",
      "3\n",
      "4\n",
      "5\n"
     ]
    }
   ],
   "source": [
    "# A simple while loop\n",
    "\n",
    "current_value = 1\n",
    "while current_value <=5:\n",
    "    print(current_value)\n",
    "    current_value +=1"
   ]
  },
  {
   "cell_type": "code",
   "execution_count": 3,
   "metadata": {},
   "outputs": [
    {
     "name": "stdout",
     "output_type": "stream",
     "text": [
      "Enter you msg :Sensor assembly done\n",
      "Sensor assembly done\n",
      "Enter you msg :Conveyor work complete \n",
      "Conveyor work complete \n",
      "Enter you msg :project in last phase\n",
      "project in last phase\n",
      "Enter you msg :quit\n",
      "quit\n"
     ]
    }
   ],
   "source": [
    "# Letting the user choose when to quit\n",
    "msg = ''\n",
    "while msg !='quit':\n",
    "    msg = input(\"Enter you msg :\")\n",
    "    print(msg)"
   ]
  },
  {
   "cell_type": "markdown",
   "metadata": {},
   "source": [
    "## Function  "
   ]
  },
  {
   "cell_type": "markdown",
   "metadata": {},
   "source": [
    "Functions are named blocks of code, designed to do one\n",
    "specific job. Information passed to a function is called an\n",
    "argument, and information received by a function is called a\n",
    "parameter."
   ]
  },
  {
   "cell_type": "code",
   "execution_count": 5,
   "metadata": {},
   "outputs": [
    {
     "name": "stdout",
     "output_type": "stream",
     "text": [
      "Hello!\n"
     ]
    }
   ],
   "source": [
    "# A simple function\n",
    "\n",
    "def greet_user():\n",
    "    \"\"\"Display a simple greeting\"\"\"\n",
    "    print(\"Hello!\")\n",
    "    \n",
    "greet_user()"
   ]
  },
  {
   "cell_type": "code",
   "execution_count": 9,
   "metadata": {},
   "outputs": [
    {
     "name": "stdout",
     "output_type": "stream",
     "text": [
      "Hello, Sujit!\n"
     ]
    }
   ],
   "source": [
    "# Passing an argument\n",
    "\n",
    "def greet_user(username):\n",
    "    \"\"\"Display a personalized greeting\"\"\"\n",
    "    print(\"Hello, \"+ username + \"!\")\n",
    "    \n",
    "greet_user('Sujit')"
   ]
  },
  {
   "cell_type": "code",
   "execution_count": 10,
   "metadata": {},
   "outputs": [
    {
     "name": "stdout",
     "output_type": "stream",
     "text": [
      "Have a bacon Pizza!\n",
      "Have a special Pizza!\n"
     ]
    }
   ],
   "source": [
    "# Default values for parameters\n",
    "\n",
    "def make_pizza(topping = 'bacon'):\n",
    "    \"\"\"Making a single-topping pizza.\"\"\"\n",
    "    print(\"Have a \" + topping + \" Pizza!\")\n",
    "    \n",
    "make_pizza()\n",
    "make_pizza('special')"
   ]
  },
  {
   "cell_type": "code",
   "execution_count": 11,
   "metadata": {},
   "outputs": [
    {
     "name": "stdout",
     "output_type": "stream",
     "text": [
      "47\n"
     ]
    }
   ],
   "source": [
    "# Returning a value\n",
    "\n",
    "def add_numbers(x,y):\n",
    "    \"\"\"Add two numbers and return the sum\"\"\"\n",
    "    return x+y\n",
    "\n",
    "sum = add_numbers(26,21)\n",
    "print(sum)"
   ]
  },
  {
   "cell_type": "code",
   "execution_count": null,
   "metadata": {},
   "outputs": [],
   "source": []
  }
 ],
 "metadata": {
  "kernelspec": {
   "display_name": "Python 3",
   "language": "python",
   "name": "python3"
  },
  "language_info": {
   "codemirror_mode": {
    "name": "ipython",
    "version": 3
   },
   "file_extension": ".py",
   "mimetype": "text/x-python",
   "name": "python",
   "nbconvert_exporter": "python",
   "pygments_lexer": "ipython3",
   "version": "3.7.3"
  }
 },
 "nbformat": 4,
 "nbformat_minor": 2
}
