{
 "cells": [
  {
   "cell_type": "code",
   "execution_count": 20,
   "metadata": {},
   "outputs": [
    {
     "name": "stdout",
     "output_type": "stream",
     "text": [
      "This is my  line 1\n",
      "\n",
      "This is my  line 2\n",
      "\n",
      "This is my  line 3\n",
      "\n",
      "This is my  line 4\n",
      "\n",
      "This is my  line 5\n",
      "\n",
      "This is my  line 6\n",
      "\n",
      "This is my  line 7\n",
      "\n",
      "This is my  line 8\n",
      "\n",
      "This is my  line 9\n",
      "\n",
      "This is my  line 10\n",
      "\n",
      "\n"
     ]
    }
   ],
   "source": [
    "def main():\n",
    "    \n",
    "    #write mode\n",
    "    \n",
    "    f = open(\"textFile.txt\",\"w+\") \n",
    "\n",
    "    for i in range(10):\n",
    "        f.write(\"This is my  line %d\\r\\n\" %(i+1))\n",
    "    f.close()\n",
    "    f = open(\"textFile.txt\",\"r\")\n",
    "    if f.mode == \"r\":\n",
    "        contents = f.read()\n",
    "        print(contents)\n",
    "        \n",
    "if __name__ == \"__main__\":\n",
    "    main()"
   ]
  },
  {
   "cell_type": "code",
   "execution_count": 21,
   "metadata": {},
   "outputs": [
    {
     "name": "stdout",
     "output_type": "stream",
     "text": [
      "This is my  line 1\n",
      "\n",
      "This is my  line 2\n",
      "\n",
      "This is my  line 3\n",
      "\n",
      "This is my  line 4\n",
      "\n",
      "This is my  line 5\n",
      "\n",
      "This is my  line 6\n",
      "\n",
      "This is my  line 7\n",
      "\n",
      "This is my  line 8\n",
      "\n",
      "This is my  line 9\n",
      "\n",
      "This is my  line 10\n",
      "\n",
      "This is my append line 1\n",
      "\n",
      "This is my append line 2\n",
      "\n",
      "This is my append line 3\n",
      "\n",
      "This is my append line 4\n",
      "\n",
      "This is my append line 5\n",
      "\n",
      "This is my append line 6\n",
      "\n",
      "This is my append line 7\n",
      "\n",
      "This is my append line 8\n",
      "\n",
      "This is my append line 9\n",
      "\n",
      "This is my append line 10\n",
      "\n",
      "\n"
     ]
    }
   ],
   "source": [
    "def main():\n",
    "    \n",
    "    #write mode\n",
    "    \n",
    "#     f = open(\"textFile.txt\",\"w+\") \n",
    "    \n",
    "    #append mode\n",
    "    f = open(\"textFile.txt\",\"a+\")\n",
    "    for i in range(10):\n",
    "        f.write(\"This is my append line %d\\r\\n\" %(i+1))\n",
    "    f.close()\n",
    "    f = open(\"textFile.txt\",\"r\")\n",
    "    if f.mode == \"r\":\n",
    "        contents = f.read()\n",
    "        print(contents)\n",
    "        \n",
    "if __name__ == \"__main__\":\n",
    "    main()"
   ]
  },
  {
   "cell_type": "code",
   "execution_count": 22,
   "metadata": {},
   "outputs": [
    {
     "name": "stdout",
     "output_type": "stream",
     "text": [
      "This is my append line 1\n",
      "\n",
      "This is my append line 2\n",
      "\n",
      "This is my append line 3\n",
      "\n",
      "This is my append line 4\n",
      "\n",
      "This is my append line 5\n",
      "\n",
      "This is my append line 6\n",
      "\n",
      "This is my append line 7\n",
      "\n",
      "This is my append line 8\n",
      "\n",
      "This is my append line 9\n",
      "\n",
      "This is my append line 10\n",
      "\n",
      "\n"
     ]
    }
   ],
   "source": [
    "def main():\n",
    "    \n",
    "    #write mode\n",
    "    \n",
    "#     f = open(\"textFile.txt\",\"w+\") \n",
    "    \n",
    "    #append mode\n",
    "    f = open(\"textFile.txt\",\"w+\")  # w is used for overriding content \n",
    "    for i in range(10):\n",
    "        f.write(\"This is my append line %d\\r\\n\" %(i+1))\n",
    "    f.close()\n",
    "    f = open(\"textFile.txt\",\"r\")\n",
    "    if f.mode == \"r\":\n",
    "        contents = f.read()\n",
    "        print(contents)\n",
    "        \n",
    "if __name__ == \"__main__\":\n",
    "    main()"
   ]
  },
  {
   "cell_type": "code",
   "execution_count": 23,
   "metadata": {},
   "outputs": [
    {
     "name": "stdout",
     "output_type": "stream",
     "text": [
      "This is my append line 1\n",
      "\n",
      "\n",
      "\n",
      "This is my append line 2\n",
      "\n",
      "\n",
      "\n",
      "This is my append line 3\n",
      "\n",
      "\n",
      "\n",
      "This is my append line 4\n",
      "\n",
      "\n",
      "\n",
      "This is my append line 5\n",
      "\n",
      "\n",
      "\n",
      "This is my append line 6\n",
      "\n",
      "\n",
      "\n",
      "This is my append line 7\n",
      "\n",
      "\n",
      "\n",
      "This is my append line 8\n",
      "\n",
      "\n",
      "\n",
      "This is my append line 9\n",
      "\n",
      "\n",
      "\n",
      "This is my append line 10\n",
      "\n",
      "\n",
      "\n"
     ]
    }
   ],
   "source": [
    "def main():\n",
    "    \n",
    "    #write mode\n",
    "    \n",
    "#     f = open(\"textFile.txt\",\"w+\") \n",
    "    \n",
    "    #append mode\n",
    "    f = open(\"textFile.txt\",\"w+\")  # w is used for overriding content \n",
    "    for i in range(10):\n",
    "        f.write(\"This is my append line %d\\r\\n\" %(i+1))\n",
    "    f.close()\n",
    "    f = open(\"textFile.txt\",\"r\")\n",
    "        \n",
    "    f1 = f.readlines()\n",
    "    for x in f1:\n",
    "        print(x)\n",
    "    \n",
    "if __name__ == \"__main__\":\n",
    "    main()"
   ]
  },
  {
   "cell_type": "code",
   "execution_count": 24,
   "metadata": {},
   "outputs": [],
   "source": [
    "import os\n",
    "\n",
    "from os import path\n",
    "\n",
    "def main():\n",
    "    \n",
    "    if path.exists(\"textFile.txt\"):\n",
    "        src = path.realpath(\"textFile.txt\")\n",
    "        \n",
    "        # rename path\n",
    "        os.rename(\"textFile.txt\",\"myFile.txt\")\n",
    "        \n",
    "        \n",
    "if __name__ == \"__main__\":\n",
    "    main()"
   ]
  },
  {
   "cell_type": "code",
   "execution_count": 25,
   "metadata": {},
   "outputs": [],
   "source": [
    "import os\n",
    "\n",
    "def main():\n",
    "    \n",
    "    os.remove(\"myFile.txt\")\n",
    "if __name__ ==\"__main__\":\n",
    "    main()"
   ]
  },
  {
   "cell_type": "code",
   "execution_count": 27,
   "metadata": {},
   "outputs": [
    {
     "name": "stdout",
     "output_type": "stream",
     "text": [
      "The file does not exist\n"
     ]
    }
   ],
   "source": [
    "import os\n",
    "\n",
    "from os import path\n",
    "\n",
    "def main():\n",
    "    \n",
    "    if path.exists(\"myFile.txt\"):\n",
    "#         src = path.realpath(\"textFile.txt\")\n",
    "\n",
    "        os.remove(\"myFile.txt\")\n",
    "        \n",
    "        # rename path\n",
    "#         os.rename(\"textFile.txt\",\"myFile.txt\")\n",
    "    else:\n",
    "        print(\"The file does not exist\")\n",
    "        \n",
    "if __name__ == \"__main__\":\n",
    "    main()"
   ]
  },
  {
   "cell_type": "code",
   "execution_count": null,
   "metadata": {},
   "outputs": [],
   "source": [
    "import difflib\n",
    "\n",
    "with open(\"file1\") as f1:\n",
    "    f1_text = f1.read()\n",
    "    \n",
    "with open(\"file2\") as f2:\n",
    "    f2_text = f2.read()\n",
    "    \n",
    "for line in difflib.unified_diff(f1_text,f2_text,fromfile=\"file1\",tofile=\"file2\",lineterm=\"\"):\n",
    "    print(line)"
   ]
  },
  {
   "cell_type": "code",
   "execution_count": null,
   "metadata": {},
   "outputs": [],
   "source": []
  },
  {
   "cell_type": "code",
   "execution_count": null,
   "metadata": {},
   "outputs": [],
   "source": []
  }
 ],
 "metadata": {
  "kernelspec": {
   "display_name": "Python 3",
   "language": "python",
   "name": "python3"
  },
  "language_info": {
   "codemirror_mode": {
    "name": "ipython",
    "version": 3
   },
   "file_extension": ".py",
   "mimetype": "text/x-python",
   "name": "python",
   "nbconvert_exporter": "python",
   "pygments_lexer": "ipython3",
   "version": "3.7.3"
  }
 },
 "nbformat": 4,
 "nbformat_minor": 2
}
